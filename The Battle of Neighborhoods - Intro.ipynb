{
    "cells": [
        {
            "cell_type": "markdown",
            "metadata": {},
            "source": "<h1 align=center><font size = 5>Caf\u00e9 B2D: Toronto, ON</font></h1>"
        },
        {
            "cell_type": "markdown",
            "metadata": {},
            "source": "## Introduction\n\n**Caf\u00e9 B2D** *(Bean 2 Drip)* is an up-and-coming caf\u00e9 specializing in high end coffee related drinks and exceptional pastries and made-to-order items.  As they are preparing for their launch into Toronto, they are uncertain as to the area in which the should set up shop.  The primary criteria that they require from the right neighborhood is as follows:\n\n1. Average income within the neighborhood must be over $75,000/year\n2. Location to not be near moderate or higher cost venues\n3. Location to not be within an area that is overly saturated with other venues\n4. The population within the neighborhood and surrounding area needs to be in excess of 7,500\n\nThe following data analysis will provide **Caf\u00e9 B2D** with a recommended location as well as two runner ups."
        }
    ],
    "metadata": {
        "kernelspec": {
            "display_name": "Python 3.6",
            "language": "python",
            "name": "python3"
        },
        "language_info": {
            "codemirror_mode": {
                "name": "ipython",
                "version": 3
            },
            "file_extension": ".py",
            "mimetype": "text/x-python",
            "name": "python",
            "nbconvert_exporter": "python",
            "pygments_lexer": "ipython3",
            "version": "3.6.9"
        }
    },
    "nbformat": 4,
    "nbformat_minor": 1
}