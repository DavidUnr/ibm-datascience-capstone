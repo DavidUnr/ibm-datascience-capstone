{
    "cells": [
        {
            "cell_type": "markdown",
            "metadata": {},
            "source": "<h1 align=center><font size = 5>Caf\u00e9 B2D: Toronto, ON</font></h1>"
        },
        {
            "cell_type": "markdown",
            "metadata": {},
            "source": "## Introduction\n\n**Caf\u00e9 B2D** *(Bean 2 Drip)* is an up-and-coming caf\u00e9 specializing in high end coffee related drinks and exceptional pastries and made-to-order items.  As they are preparing for their launch into Toronto, they are uncertain as to the area in which the should set up shop.  The primary criteria that they require from the right neighborhood is as follows:\n\n1. Average income within the neighborhood must be over $75,000/year\n2. Location to not be near moderate or higher cost venues\n3. Location to not be within an area that is overly saturated with other venues\n4. The population within the neighborhood (including surrounding neighborhoods within 1000m) needs to be in excess of 7,500\n\nThe following data analysis will provide **Caf\u00e9 B2D** with a recommended location as well as two runner ups."
        },
        {
            "cell_type": "markdown",
            "metadata": {},
            "source": "## Data\n\nThe data that will be used within the analysis will include:\n\n1. Retrieve data on the Toronto neighborhoods: \n    * Data is located at: https://en.wikipedia.org/wiki/Demographics_of_Toronto_neighbourhoods\n    * Contains name, population, land area and average income\n    * Bonus data: contains second most common language after English to establish promo drinks/dishes based on that demographic\n    * Data at this point can be filtered to match the necessary criteria\n2. Retrieve the geojson data for the Toronto neighborhoods:\n    * Data is located at https://github.com/jasonicarter/toronto-geojson/blob/master/toronto_topo.json\n    * This will allow the map to highlight the neighborhoods that are acceptable and grey out the neighborhoods that do not meet the criteria \n3. Retrieve the longitude and latitude for each of the neighborhoods:\n    * Implement the Nominatim module from the geopy.geocoders library to load the longitude and latitude of each of the neighborhoods\n4. Retrieve the venue data from Foursquare for all the relevant coffece shops within each of the neighborhoods\n    * Will use the land area from the Toronto neighborhoods to determine a radius to use\n    * Count of venues within the neighborhood, grouped by cost\n\nWith the retrieved data, we will:\n\n1. Locate the neighborhoods that fit the requirements set out by **Caf\u00e9 B2D**\n2. Visually show the neighborhoods\n3. Visually show the Foursquare venues\n2. Calculate the saturation of coffee shops within each neighborhood (population divided by count of shops provieds average population per shop)\n2. A recommended list of three potential areas, ranked in order including a visual map of where it should be"
        }
    ],
    "metadata": {
        "kernelspec": {
            "display_name": "Python 3.6",
            "language": "python",
            "name": "python3"
        },
        "language_info": {
            "codemirror_mode": {
                "name": "ipython",
                "version": 3
            },
            "file_extension": ".py",
            "mimetype": "text/x-python",
            "name": "python",
            "nbconvert_exporter": "python",
            "pygments_lexer": "ipython3",
            "version": "3.6.9"
        }
    },
    "nbformat": 4,
    "nbformat_minor": 1
}